{
 "cells": [
  {
   "cell_type": "code",
   "execution_count": 1,
   "metadata": {},
   "outputs": [],
   "source": [
    "# importing the packages\n",
    "\n",
    "import pandas as pd\n",
    "import numpy as np\n",
    "import seaborn as sns \n",
    "import matplotlib.pyplot as plt \n",
    "%matplotlib inline\n",
    "from sklearn.ensemble import RandomForestClassifier, GradientBoostingClassifier, BaggingClassifier, AdaBoostClassifier\n",
    "from xgboost import XGBClassifier\n",
    "from catboost import CatBoostClassifier\n",
    "from lightgbm import LGBMClassifier\n",
    "from sklearn.metrics import roc_auc_score, classification_report, confusion_matrix, accuracy_score, f1_score\n",
    "from sklearn.model_selection import StratifiedKFold, KFold, train_test_split"
   ]
  },
  {
   "cell_type": "code",
   "execution_count": 2,
   "metadata": {},
   "outputs": [],
   "source": [
    "train = pd.read_csv('insure1_train.csv')\n",
    "test = pd.read_csv('insure1_test.csv')"
   ]
  },
  {
   "cell_type": "code",
   "execution_count": 3,
   "metadata": {},
   "outputs": [
    {
     "data": {
      "text/html": [
       "<div>\n",
       "<style scoped>\n",
       "    .dataframe tbody tr th:only-of-type {\n",
       "        vertical-align: middle;\n",
       "    }\n",
       "\n",
       "    .dataframe tbody tr th {\n",
       "        vertical-align: top;\n",
       "    }\n",
       "\n",
       "    .dataframe thead th {\n",
       "        text-align: right;\n",
       "    }\n",
       "</style>\n",
       "<table border=\"1\" class=\"dataframe\">\n",
       "  <thead>\n",
       "    <tr style=\"text-align: right;\">\n",
       "      <th></th>\n",
       "      <th>EmployeeNo</th>\n",
       "      <th>Gender</th>\n",
       "      <th>Trainings_Attended</th>\n",
       "      <th>Year_of_birth</th>\n",
       "      <th>Last_performance_score</th>\n",
       "      <th>Year_of_recruitment</th>\n",
       "      <th>Targets_met</th>\n",
       "      <th>Previous_Award</th>\n",
       "      <th>Training_score_average</th>\n",
       "      <th>Foreign_schooled</th>\n",
       "      <th>Past_Disciplinary_Action</th>\n",
       "      <th>Previous_IntraDepartmental_Movement</th>\n",
       "      <th>Promoted_or_Not</th>\n",
       "      <th>divisional</th>\n",
       "      <th>statea</th>\n",
       "      <th>marital</th>\n",
       "    </tr>\n",
       "  </thead>\n",
       "  <tbody>\n",
       "    <tr>\n",
       "      <th>0</th>\n",
       "      <td>YAK/S/00001</td>\n",
       "      <td>0</td>\n",
       "      <td>2</td>\n",
       "      <td>1986</td>\n",
       "      <td>12.5</td>\n",
       "      <td>2011</td>\n",
       "      <td>1</td>\n",
       "      <td>0</td>\n",
       "      <td>41</td>\n",
       "      <td>0</td>\n",
       "      <td>0</td>\n",
       "      <td>0</td>\n",
       "      <td>0</td>\n",
       "      <td>2</td>\n",
       "      <td>0</td>\n",
       "      <td>2</td>\n",
       "    </tr>\n",
       "    <tr>\n",
       "      <th>1</th>\n",
       "      <td>YAK/S/00002</td>\n",
       "      <td>1</td>\n",
       "      <td>2</td>\n",
       "      <td>1991</td>\n",
       "      <td>12.5</td>\n",
       "      <td>2015</td>\n",
       "      <td>0</td>\n",
       "      <td>0</td>\n",
       "      <td>52</td>\n",
       "      <td>1</td>\n",
       "      <td>0</td>\n",
       "      <td>0</td>\n",
       "      <td>0</td>\n",
       "      <td>2</td>\n",
       "      <td>1</td>\n",
       "      <td>12</td>\n",
       "    </tr>\n",
       "    <tr>\n",
       "      <th>2</th>\n",
       "      <td>YAK/S/00003</td>\n",
       "      <td>1</td>\n",
       "      <td>2</td>\n",
       "      <td>1987</td>\n",
       "      <td>7.5</td>\n",
       "      <td>2012</td>\n",
       "      <td>0</td>\n",
       "      <td>0</td>\n",
       "      <td>42</td>\n",
       "      <td>1</td>\n",
       "      <td>0</td>\n",
       "      <td>0</td>\n",
       "      <td>0</td>\n",
       "      <td>2</td>\n",
       "      <td>1</td>\n",
       "      <td>12</td>\n",
       "    </tr>\n",
       "    <tr>\n",
       "      <th>3</th>\n",
       "      <td>YAK/S/00004</td>\n",
       "      <td>1</td>\n",
       "      <td>3</td>\n",
       "      <td>1982</td>\n",
       "      <td>2.5</td>\n",
       "      <td>2009</td>\n",
       "      <td>0</td>\n",
       "      <td>0</td>\n",
       "      <td>42</td>\n",
       "      <td>1</td>\n",
       "      <td>0</td>\n",
       "      <td>0</td>\n",
       "      <td>0</td>\n",
       "      <td>3</td>\n",
       "      <td>1</td>\n",
       "      <td>12</td>\n",
       "    </tr>\n",
       "    <tr>\n",
       "      <th>4</th>\n",
       "      <td>YAK/S/00006</td>\n",
       "      <td>1</td>\n",
       "      <td>3</td>\n",
       "      <td>1990</td>\n",
       "      <td>7.5</td>\n",
       "      <td>2012</td>\n",
       "      <td>0</td>\n",
       "      <td>0</td>\n",
       "      <td>77</td>\n",
       "      <td>1</td>\n",
       "      <td>0</td>\n",
       "      <td>0</td>\n",
       "      <td>0</td>\n",
       "      <td>3</td>\n",
       "      <td>1</td>\n",
       "      <td>12</td>\n",
       "    </tr>\n",
       "  </tbody>\n",
       "</table>\n",
       "</div>"
      ],
      "text/plain": [
       "    EmployeeNo  Gender  Trainings_Attended  Year_of_birth  \\\n",
       "0  YAK/S/00001       0                   2           1986   \n",
       "1  YAK/S/00002       1                   2           1991   \n",
       "2  YAK/S/00003       1                   2           1987   \n",
       "3  YAK/S/00004       1                   3           1982   \n",
       "4  YAK/S/00006       1                   3           1990   \n",
       "\n",
       "   Last_performance_score  Year_of_recruitment  Targets_met  Previous_Award  \\\n",
       "0                    12.5                 2011            1               0   \n",
       "1                    12.5                 2015            0               0   \n",
       "2                     7.5                 2012            0               0   \n",
       "3                     2.5                 2009            0               0   \n",
       "4                     7.5                 2012            0               0   \n",
       "\n",
       "   Training_score_average  Foreign_schooled  Past_Disciplinary_Action  \\\n",
       "0                      41                 0                         0   \n",
       "1                      52                 1                         0   \n",
       "2                      42                 1                         0   \n",
       "3                      42                 1                         0   \n",
       "4                      77                 1                         0   \n",
       "\n",
       "   Previous_IntraDepartmental_Movement  Promoted_or_Not  divisional  statea  \\\n",
       "0                                    0                0           2       0   \n",
       "1                                    0                0           2       1   \n",
       "2                                    0                0           2       1   \n",
       "3                                    0                0           3       1   \n",
       "4                                    0                0           3       1   \n",
       "\n",
       "   marital  \n",
       "0        2  \n",
       "1       12  \n",
       "2       12  \n",
       "3       12  \n",
       "4       12  "
      ]
     },
     "execution_count": 3,
     "metadata": {},
     "output_type": "execute_result"
    }
   ],
   "source": [
    "train.head()"
   ]
  },
  {
   "cell_type": "code",
   "execution_count": 4,
   "metadata": {},
   "outputs": [
    {
     "data": {
      "text/plain": [
       "Index(['EmployeeNo', 'Gender', 'Trainings_Attended', 'Year_of_birth',\n",
       "       'Last_performance_score', 'Year_of_recruitment', 'Targets_met',\n",
       "       'Previous_Award', 'Training_score_average', 'Foreign_schooled',\n",
       "       'Past_Disciplinary_Action', 'Previous_IntraDepartmental_Movement',\n",
       "       'Promoted_or_Not', 'divisional', 'statea', 'marital'],\n",
       "      dtype='object')"
      ]
     },
     "execution_count": 4,
     "metadata": {},
     "output_type": "execute_result"
    }
   ],
   "source": [
    "train.columns"
   ]
  },
  {
   "cell_type": "code",
   "execution_count": 5,
   "metadata": {},
   "outputs": [],
   "source": [
    "test_id = test['EmployeeNo']"
   ]
  },
  {
   "cell_type": "code",
   "execution_count": 6,
   "metadata": {},
   "outputs": [],
   "source": [
    "\n",
    "train = train.drop('EmployeeNo', axis=1)\n",
    "test = test.drop('EmployeeNo', axis=1)"
   ]
  },
  {
   "cell_type": "code",
   "execution_count": 7,
   "metadata": {},
   "outputs": [],
   "source": [
    "\n",
    "X = train.drop('Promoted_or_Not', axis=1)\n",
    "y = train.Promoted_or_Not"
   ]
  },
  {
   "cell_type": "code",
   "execution_count": 8,
   "metadata": {},
   "outputs": [],
   "source": [
    "# calling in the train_test_split function\n",
    "\n",
    "X_train, X_test, y_train, y_test = train_test_split(X, y, test_size=0.15, random_state=42)"
   ]
  },
  {
   "cell_type": "code",
   "execution_count": 9,
   "metadata": {},
   "outputs": [],
   "source": [
    "from sklearn.metrics import auc"
   ]
  },
  {
   "cell_type": "code",
   "execution_count": 10,
   "metadata": {},
   "outputs": [],
   "source": [
    "#declaring our model\n",
    "\n",
    "model=CatBoostClassifier(n_estimators=800,eval_metric='AUC',max_depth=5,learning_rate=0.1,od_wait=50, \n",
    "                              subsample=0.9,bootstrap_type='Bernoulli',metric_period=20,\n",
    "                     #l2_leaf_reg=5,#bagging_temperature=0.85,random_strength=100,\n",
    "                     use_best_model=True)\n"
   ]
  },
  {
   "cell_type": "code",
   "execution_count": 11,
   "metadata": {},
   "outputs": [
    {
     "name": "stderr",
     "output_type": "stream",
     "text": [
      "Warning: Overfitting detector is active, thus evaluation metric is calculated on every iteration. 'metric_period' is ignored for evaluation metric.\n"
     ]
    },
    {
     "name": "stdout",
     "output_type": "stream",
     "text": [
      "0:\ttest: 0.5978666\tbest: 0.5978666 (0)\ttotal: 259ms\tremaining: 3m 26s\n",
      "20:\ttest: 0.8279235\tbest: 0.8296027 (18)\ttotal: 852ms\tremaining: 31.6s\n",
      "40:\ttest: 0.8358623\tbest: 0.8358623 (40)\ttotal: 1.37s\tremaining: 25.4s\n",
      "60:\ttest: 0.8408584\tbest: 0.8408584 (60)\ttotal: 1.83s\tremaining: 22.2s\n",
      "80:\ttest: 0.8410385\tbest: 0.8417327 (75)\ttotal: 2.27s\tremaining: 20.1s\n",
      "100:\ttest: 0.8412635\tbest: 0.8417327 (75)\ttotal: 2.63s\tremaining: 18.2s\n",
      "120:\ttest: 0.8421949\tbest: 0.8423207 (119)\ttotal: 2.99s\tremaining: 16.8s\n",
      "140:\ttest: 0.8434458\tbest: 0.8434458 (140)\ttotal: 3.33s\tremaining: 15.6s\n",
      "160:\ttest: 0.8441324\tbest: 0.8442107 (158)\ttotal: 3.66s\tremaining: 14.5s\n",
      "180:\ttest: 0.8445982\tbest: 0.8446169 (179)\ttotal: 3.97s\tremaining: 13.6s\n",
      "200:\ttest: 0.8444117\tbest: 0.8449007 (181)\ttotal: 4.26s\tremaining: 12.7s\n",
      "220:\ttest: 0.8444102\tbest: 0.8449007 (181)\ttotal: 4.56s\tremaining: 12s\n",
      "Stopped by overfitting detector  (50 iterations wait)\n",
      "\n",
      "bestTest = 0.8449007252\n",
      "bestIteration = 181\n",
      "\n",
      "Shrink model to first 182 iterations.\n"
     ]
    },
    {
     "data": {
      "text/plain": [
       "<catboost.core.CatBoostClassifier at 0x2ae5cdeef08>"
      ]
     },
     "execution_count": 11,
     "metadata": {},
     "output_type": "execute_result"
    }
   ],
   "source": [
    "\n",
    "model.fit(X_train, y_train, eval_set=(X_test, y_test))"
   ]
  },
  {
   "cell_type": "code",
   "execution_count": 12,
   "metadata": {},
   "outputs": [],
   "source": [
    "pred = model.predict_proba(test)[:, 1]"
   ]
  },
  {
   "cell_type": "code",
   "execution_count": null,
   "metadata": {},
   "outputs": [],
   "source": []
  },
  {
   "cell_type": "code",
   "execution_count": null,
   "metadata": {},
   "outputs": [],
   "source": []
  },
  {
   "cell_type": "code",
   "execution_count": 13,
   "metadata": {},
   "outputs": [],
   "source": [
    "#calling in the train_test_split function\n",
    "\n",
    "X_train, X_test, y_train, y_test = train_test_split(X, y, test_size=0.15, random_state=42)"
   ]
  },
  {
   "cell_type": "code",
   "execution_count": 14,
   "metadata": {},
   "outputs": [
    {
     "name": "stdout",
     "output_type": "stream",
     "text": [
      "0:\ttest: 0.7580348\ttest1: 0.7433860\tbest: 0.7433860 (0)\ttotal: 31.2ms\tremaining: 25s\n",
      "100:\ttest: 0.8518502\ttest1: 0.8395432\tbest: 0.8396371 (96)\ttotal: 2.37s\tremaining: 16.4s\n",
      "200:\ttest: 0.8627687\ttest1: 0.8406525\tbest: 0.8411309 (166)\ttotal: 5.03s\tremaining: 15s\n",
      "Stopped by overfitting detector  (100 iterations wait)\n",
      "\n",
      "bestTest = 0.8411308794\n",
      "bestIteration = 166\n",
      "\n",
      "Shrink model to first 167 iterations.\n",
      "err:  0.84113087940391\n",
      "0:\ttest: 0.7563391\ttest1: 0.7636168\tbest: 0.7636168 (0)\ttotal: 39.7ms\tremaining: 31.7s\n",
      "100:\ttest: 0.8525894\ttest1: 0.8326561\tbest: 0.8327564 (99)\ttotal: 2.31s\tremaining: 16s\n",
      "200:\ttest: 0.8630827\ttest1: 0.8367112\tbest: 0.8367112 (200)\ttotal: 3.98s\tremaining: 11.9s\n",
      "300:\ttest: 0.8709800\ttest1: 0.8374807\tbest: 0.8375955 (288)\ttotal: 5.44s\tremaining: 9.01s\n",
      "400:\ttest: 0.8779019\ttest1: 0.8372610\tbest: 0.8377670 (342)\ttotal: 6.8s\tremaining: 6.77s\n",
      "Stopped by overfitting detector  (100 iterations wait)\n",
      "\n",
      "bestTest = 0.8377670455\n",
      "bestIteration = 342\n",
      "\n",
      "Shrink model to first 343 iterations.\n",
      "err:  0.8377670455309811\n",
      "0:\ttest: 0.7513373\ttest1: 0.7570880\tbest: 0.7570880 (0)\ttotal: 12.4ms\tremaining: 9.93s\n",
      "100:\ttest: 0.8477042\ttest1: 0.8426384\tbest: 0.8426465 (98)\ttotal: 1.39s\tremaining: 9.6s\n",
      "200:\ttest: 0.8610790\ttest1: 0.8451298\tbest: 0.8452035 (197)\ttotal: 2.8s\tremaining: 8.35s\n",
      "300:\ttest: 0.8700001\ttest1: 0.8445090\tbest: 0.8453324 (207)\ttotal: 4.18s\tremaining: 6.94s\n",
      "Stopped by overfitting detector  (100 iterations wait)\n",
      "\n",
      "bestTest = 0.8453323908\n",
      "bestIteration = 207\n",
      "\n",
      "Shrink model to first 208 iterations.\n",
      "err:  0.8453323907740076\n"
     ]
    }
   ],
   "source": [
    "# first tuning using the StratifedKfold and Catboost model algorithm\n",
    "\n",
    "from sklearn.metrics import accuracy_score,confusion_matrix,roc_auc_score\n",
    "errcb=[]\n",
    "y_pred_totcb=[]\n",
    "from sklearn.model_selection import KFold,StratifiedKFold, TimeSeriesSplit, GroupKFold\n",
    "fold=StratifiedKFold(n_splits=3, shuffle=True, random_state=42)\n",
    "i=1\n",
    "for train_index, test_index in fold.split(X,y):\n",
    "    X_train, X_test = X.iloc[train_index], X.iloc[test_index]\n",
    "    y_train, y_test = y[train_index], y[test_index]\n",
    "    m=CatBoostClassifier(n_estimators=800,eval_metric='AUC',max_depth=4,learning_rate=0.1,#reg_lambda=5,#5\n",
    "                              subsample=0.9,bootstrap_type='Bernoulli',#leaf_estimation_iterations=10,\n",
    "                    #l2_leaf_reg=5,#bagging_temperature=0.85,random_strength=100,\n",
    "                     use_best_model=True)\n",
    "    #CatBoostClassifier(n_estimators=1000,eval_metric='AUC',max_depth=5,learning_rate=0.1,reg_lambda=5,#5\n",
    "                              #subsample=0.9,bootstrap_type='Bernoulli',\n",
    "                    #l2_leaf_reg=5,#bagging_temperature=0.85,random_strength=100,\n",
    "                     #use_best_model=True)\n",
    "    m.fit(X_train,y_train,eval_set=[(X_train,y_train),(X_test, y_test)], early_stopping_rounds=100,verbose=100)\n",
    "    preds=m.predict_proba(X_test)[:, 1]\n",
    "    print(\"err: \",roc_auc_score(y_test,preds))\n",
    "    errcb.append(roc_auc_score(y_test,preds))\n",
    "    p = m.predict_proba(test)[:, 1]\n",
    "    y_pred_totcb.append(p)"
   ]
  },
  {
   "cell_type": "code",
   "execution_count": 15,
   "metadata": {},
   "outputs": [
    {
     "data": {
      "text/plain": [
       "0.8414101052362994"
      ]
     },
     "execution_count": 15,
     "metadata": {},
     "output_type": "execute_result"
    }
   ],
   "source": [
    "np.mean(errcb)"
   ]
  },
  {
   "cell_type": "code",
   "execution_count": 16,
   "metadata": {},
   "outputs": [
    {
     "name": "stdout",
     "output_type": "stream",
     "text": [
      "0:\ttest: 0.7639707\ttest1: 0.7526133\tbest: 0.7526133 (0)\ttotal: 30ms\tremaining: 30s\n",
      "100:\ttest: 0.8511388\ttest1: 0.8402999\tbest: 0.8403038 (99)\ttotal: 3.09s\tremaining: 27.5s\n",
      "200:\ttest: 0.8602711\ttest1: 0.8406891\tbest: 0.8408316 (122)\ttotal: 5.05s\tremaining: 20.1s\n",
      "300:\ttest: 0.8666584\ttest1: 0.8409935\tbest: 0.8413950 (261)\ttotal: 6.61s\tremaining: 15.4s\n",
      "Stopped by overfitting detector  (100 iterations wait)\n",
      "\n",
      "bestTest = 0.8413949714\n",
      "bestIteration = 261\n",
      "\n",
      "Shrink model to first 262 iterations.\n",
      "err:  0.8413949714405192\n",
      "0:\ttest: 0.7626894\ttest1: 0.7555222\tbest: 0.7555222 (0)\ttotal: 11ms\tremaining: 11s\n",
      "100:\ttest: 0.8525941\ttest1: 0.8349135\tbest: 0.8349135 (100)\ttotal: 1.6s\tremaining: 14.3s\n",
      "200:\ttest: 0.8616060\ttest1: 0.8361940\tbest: 0.8363691 (196)\ttotal: 3.18s\tremaining: 12.6s\n",
      "300:\ttest: 0.8682860\ttest1: 0.8372142\tbest: 0.8372667 (276)\ttotal: 4.71s\tremaining: 10.9s\n",
      "400:\ttest: 0.8733520\ttest1: 0.8378610\tbest: 0.8378610 (400)\ttotal: 6.01s\tremaining: 8.97s\n",
      "500:\ttest: 0.8781594\ttest1: 0.8377695\tbest: 0.8379052 (432)\ttotal: 7.2s\tremaining: 7.17s\n",
      "600:\ttest: 0.8822657\ttest1: 0.8374142\tbest: 0.8381946 (532)\ttotal: 8.67s\tremaining: 5.76s\n",
      "Stopped by overfitting detector  (100 iterations wait)\n",
      "\n",
      "bestTest = 0.8381945637\n",
      "bestIteration = 532\n",
      "\n",
      "Shrink model to first 533 iterations.\n",
      "err:  0.8381945636940734\n",
      "0:\ttest: 0.7550735\ttest1: 0.7707994\tbest: 0.7707994 (0)\ttotal: 38.2ms\tremaining: 38.1s\n",
      "100:\ttest: 0.8469757\ttest1: 0.8420845\tbest: 0.8422348 (94)\ttotal: 2.63s\tremaining: 23.4s\n",
      "200:\ttest: 0.8589570\ttest1: 0.8447792\tbest: 0.8450297 (174)\ttotal: 4.28s\tremaining: 17s\n",
      "Stopped by overfitting detector  (100 iterations wait)\n",
      "\n",
      "bestTest = 0.8450297421\n",
      "bestIteration = 174\n",
      "\n",
      "Shrink model to first 175 iterations.\n",
      "err:  0.8450297421030954\n"
     ]
    }
   ],
   "source": [
    "# second tuning using the StratifedKfold and Catboost model algorithm\n",
    "\n",
    "from sklearn.metrics import accuracy_score,confusion_matrix,roc_auc_score\n",
    "errcb1=[]\n",
    "y_pred_totcb1=[]\n",
    "from sklearn.model_selection import KFold,StratifiedKFold, TimeSeriesSplit\n",
    "fold=StratifiedKFold(n_splits=3, shuffle=True, random_state=42)\n",
    "i=1\n",
    "for train_index, test_index in fold.split(X,y):\n",
    "    X_train, X_test = X.iloc[train_index], X.iloc[test_index]\n",
    "    y_train, y_test = y[train_index], y[test_index]\n",
    "    m1=CatBoostClassifier(n_estimators=1000,eval_metric='AUC',max_depth=4,learning_rate=0.1,od_wait=50, reg_lambda=3,\n",
    "                              bootstrap_type='Bayesian',\n",
    "                     use_best_model=True)\n",
    "    m1.fit(X_train,y_train,eval_set=[(X_train,y_train),(X_test, y_test)], early_stopping_rounds=100,verbose=100)\n",
    "    preds=m1.predict_proba(X_test)[:, 1]\n",
    "    print(\"err: \",roc_auc_score(y_test,preds))\n",
    "    errcb1.append(roc_auc_score(y_test,preds))\n",
    "    p1 = m1.predict_proba(test)[:, 1]\n",
    "    y_pred_totcb1.append(p1)\n"
   ]
  },
  {
   "cell_type": "code",
   "execution_count": 17,
   "metadata": {},
   "outputs": [
    {
     "data": {
      "text/plain": [
       "0.8415397590792294"
      ]
     },
     "execution_count": 17,
     "metadata": {},
     "output_type": "execute_result"
    }
   ],
   "source": [
    "np.mean(errcb1)"
   ]
  },
  {
   "cell_type": "code",
   "execution_count": 18,
   "metadata": {},
   "outputs": [
    {
     "name": "stdout",
     "output_type": "stream",
     "text": [
      "[07:20:25] WARNING: C:\\Users\\Administrator\\workspace\\xgboost-win64_release_1.2.0\\src\\learner.cc:516: \n",
      "Parameters: { metrics, silent } might not be used.\n",
      "\n",
      "  This may not be accurate due to some parameters are only used in language bindings but\n",
      "  passed down to XGBoost core.  Or some parameters are not used but slip through this\n",
      "  verification. Please open an issue if you find above cases.\n",
      "\n",
      "\n",
      "[0]\tvalidation_0-error:0.07286\tvalidation_1-error:0.07530\n",
      "Multiple eval metrics have been passed: 'validation_1-error' will be used for early stopping.\n",
      "\n",
      "Will train until validation_1-error hasn't improved in 100 rounds.\n",
      "[100]\tvalidation_0-error:0.06972\tvalidation_1-error:0.07556\n",
      "Stopping. Best iteration:\n",
      "[18]\tvalidation_0-error:0.07188\tvalidation_1-error:0.07464\n",
      "\n",
      "err:  0.833891762347213\n",
      "[07:20:28] WARNING: C:\\Users\\Administrator\\workspace\\xgboost-win64_release_1.2.0\\src\\learner.cc:516: \n",
      "Parameters: { metrics, silent } might not be used.\n",
      "\n",
      "  This may not be accurate due to some parameters are only used in language bindings but\n",
      "  passed down to XGBoost core.  Or some parameters are not used but slip through this\n",
      "  verification. Please open an issue if you find above cases.\n",
      "\n",
      "\n",
      "[0]\tvalidation_0-error:0.07429\tvalidation_1-error:0.06982\n",
      "Multiple eval metrics have been passed: 'validation_1-error' will be used for early stopping.\n",
      "\n",
      "Will train until validation_1-error hasn't improved in 100 rounds.\n",
      "[100]\tvalidation_0-error:0.07188\tvalidation_1-error:0.06943\n",
      "Stopping. Best iteration:\n",
      "[46]\tvalidation_0-error:0.07283\tvalidation_1-error:0.06903\n",
      "\n",
      "err:  0.836181359307901\n",
      "[07:20:31] WARNING: C:\\Users\\Administrator\\workspace\\xgboost-win64_release_1.2.0\\src\\learner.cc:516: \n",
      "Parameters: { metrics, silent } might not be used.\n",
      "\n",
      "  This may not be accurate due to some parameters are only used in language bindings but\n",
      "  passed down to XGBoost core.  Or some parameters are not used but slip through this\n",
      "  verification. Please open an issue if you find above cases.\n",
      "\n",
      "\n",
      "[0]\tvalidation_0-error:0.07272\tvalidation_1-error:0.07570\n",
      "Multiple eval metrics have been passed: 'validation_1-error' will be used for early stopping.\n",
      "\n",
      "Will train until validation_1-error hasn't improved in 100 rounds.\n",
      "[100]\tvalidation_0-error:0.07021\tvalidation_1-error:0.07491\n",
      "Stopping. Best iteration:\n",
      "[39]\tvalidation_0-error:0.07168\tvalidation_1-error:0.07465\n",
      "\n",
      "err:  0.8350785867396879\n",
      "[07:20:33] WARNING: C:\\Users\\Administrator\\workspace\\xgboost-win64_release_1.2.0\\src\\learner.cc:516: \n",
      "Parameters: { metrics, silent } might not be used.\n",
      "\n",
      "  This may not be accurate due to some parameters are only used in language bindings but\n",
      "  passed down to XGBoost core.  Or some parameters are not used but slip through this\n",
      "  verification. Please open an issue if you find above cases.\n",
      "\n",
      "\n",
      "[0]\tvalidation_0-error:0.07272\tvalidation_1-error:0.07766\n",
      "Multiple eval metrics have been passed: 'validation_1-error' will be used for early stopping.\n",
      "\n",
      "Will train until validation_1-error hasn't improved in 100 rounds.\n",
      "[100]\tvalidation_0-error:0.07002\tvalidation_1-error:0.07557\n",
      "Stopping. Best iteration:\n",
      "[71]\tvalidation_0-error:0.07090\tvalidation_1-error:0.07518\n",
      "\n",
      "err:  0.8420911836457428\n",
      "[07:20:35] WARNING: C:\\Users\\Administrator\\workspace\\xgboost-win64_release_1.2.0\\src\\learner.cc:516: \n",
      "Parameters: { metrics, silent } might not be used.\n",
      "\n",
      "  This may not be accurate due to some parameters are only used in language bindings but\n",
      "  passed down to XGBoost core.  Or some parameters are not used but slip through this\n",
      "  verification. Please open an issue if you find above cases.\n",
      "\n",
      "\n",
      "[0]\tvalidation_0-error:0.07331\tvalidation_1-error:0.07413\n",
      "Multiple eval metrics have been passed: 'validation_1-error' will be used for early stopping.\n",
      "\n",
      "Will train until validation_1-error hasn't improved in 100 rounds.\n",
      "[100]\tvalidation_0-error:0.07064\tvalidation_1-error:0.07400\n",
      "Stopping. Best iteration:\n",
      "[3]\tvalidation_0-error:0.07321\tvalidation_1-error:0.07309\n",
      "\n",
      "err:  0.8331938541184943\n"
     ]
    }
   ],
   "source": [
    "# third tuning using the Kfold and XGboost model algorithm\n",
    "\n",
    "from sklearn.metrics import accuracy_score,confusion_matrix,roc_auc_score\n",
    "errcb2=[]\n",
    "y_pred_totcb2=[]\n",
    "from sklearn.model_selection import KFold,StratifiedKFold, TimeSeriesSplit\n",
    "fold=KFold(n_splits=5)\n",
    "i=1\n",
    "for train_index, test_index in fold.split(X,y):\n",
    "    X_train, X_test = X.iloc[train_index], X.iloc[test_index]\n",
    "    y_train, y_test = y[train_index], y[test_index]\n",
    "    m2=XGBClassifier(max_depth=6, learning_rate=0.1, n_estimators=800, silent=True, metrics='auc',colsample_bylevel=0.8, reg_alpha=0.8)\n",
    "    m2.fit(X_train,y_train,eval_set=[(X_train,y_train),(X_test, y_test)], early_stopping_rounds=100,verbose=100)\n",
    "    preds=m2.predict_proba(X_test)[:, 1]\n",
    "    print(\"err: \",roc_auc_score(y_test,preds))\n",
    "    errcb2.append(roc_auc_score(y_test,preds))\n",
    "    p2 = m2.predict_proba(test)[:, 1]\n",
    "    y_pred_totcb2.append(p2)"
   ]
  },
  {
   "cell_type": "code",
   "execution_count": 19,
   "metadata": {},
   "outputs": [
    {
     "data": {
      "text/plain": [
       "0.8360873492318079"
      ]
     },
     "execution_count": 19,
     "metadata": {},
     "output_type": "execute_result"
    }
   ],
   "source": [
    "#checking the np.mean(errcb) of the third tuning\n",
    "\n",
    "np.mean(errcb2)"
   ]
  },
  {
   "cell_type": "code",
   "execution_count": 21,
   "metadata": {},
   "outputs": [],
   "source": [
    "\n",
    "d = {\"EmployeeNo\": test_id, 'Promoted_or_Not': np.mean(y_pred_totcb, 0)}\n",
    "test_predictions = pd.DataFrame(data=d)\n",
    "test_predictions = test_predictions[[\"EmployeeNo\", 'Promoted_or_Not']]"
   ]
  },
  {
   "cell_type": "code",
   "execution_count": 22,
   "metadata": {},
   "outputs": [],
   "source": [
    "test_predictions.to_csv('m1.csv', index=False)"
   ]
  },
  {
   "cell_type": "code",
   "execution_count": 23,
   "metadata": {},
   "outputs": [
    {
     "data": {
      "text/html": [
       "<div>\n",
       "<style scoped>\n",
       "    .dataframe tbody tr th:only-of-type {\n",
       "        vertical-align: middle;\n",
       "    }\n",
       "\n",
       "    .dataframe tbody tr th {\n",
       "        vertical-align: top;\n",
       "    }\n",
       "\n",
       "    .dataframe thead th {\n",
       "        text-align: right;\n",
       "    }\n",
       "</style>\n",
       "<table border=\"1\" class=\"dataframe\">\n",
       "  <thead>\n",
       "    <tr style=\"text-align: right;\">\n",
       "      <th></th>\n",
       "      <th>EmployeeNo</th>\n",
       "      <th>Promoted_or_Not</th>\n",
       "    </tr>\n",
       "  </thead>\n",
       "  <tbody>\n",
       "    <tr>\n",
       "      <th>0</th>\n",
       "      <td>YAK/S/00005</td>\n",
       "      <td>0.057303</td>\n",
       "    </tr>\n",
       "    <tr>\n",
       "      <th>1</th>\n",
       "      <td>YAK/S/00011</td>\n",
       "      <td>0.050939</td>\n",
       "    </tr>\n",
       "    <tr>\n",
       "      <th>2</th>\n",
       "      <td>YAK/S/00015</td>\n",
       "      <td>0.031044</td>\n",
       "    </tr>\n",
       "    <tr>\n",
       "      <th>3</th>\n",
       "      <td>YAK/S/00016</td>\n",
       "      <td>0.005406</td>\n",
       "    </tr>\n",
       "    <tr>\n",
       "      <th>4</th>\n",
       "      <td>YAK/S/00017</td>\n",
       "      <td>0.159883</td>\n",
       "    </tr>\n",
       "  </tbody>\n",
       "</table>\n",
       "</div>"
      ],
      "text/plain": [
       "    EmployeeNo  Promoted_or_Not\n",
       "0  YAK/S/00005         0.057303\n",
       "1  YAK/S/00011         0.050939\n",
       "2  YAK/S/00015         0.031044\n",
       "3  YAK/S/00016         0.005406\n",
       "4  YAK/S/00017         0.159883"
      ]
     },
     "execution_count": 23,
     "metadata": {},
     "output_type": "execute_result"
    }
   ],
   "source": [
    "test_predictions.head()"
   ]
  },
  {
   "cell_type": "code",
   "execution_count": 24,
   "metadata": {},
   "outputs": [],
   "source": [
    "d = {\"EmployeeNo\": test_id, 'Promoted_or_Not': np.mean(y_pred_totcb1, 0)}\n",
    "test_predictioned = pd.DataFrame(data=d)\n",
    "test_predictioned = test_predictioned[[\"EmployeeNo\", 'Promoted_or_Not']]"
   ]
  },
  {
   "cell_type": "code",
   "execution_count": 25,
   "metadata": {},
   "outputs": [],
   "source": [
    "test_predictioned.to_csv('m2.csv', index=False)"
   ]
  },
  {
   "cell_type": "code",
   "execution_count": 26,
   "metadata": {},
   "outputs": [
    {
     "data": {
      "text/html": [
       "<div>\n",
       "<style scoped>\n",
       "    .dataframe tbody tr th:only-of-type {\n",
       "        vertical-align: middle;\n",
       "    }\n",
       "\n",
       "    .dataframe tbody tr th {\n",
       "        vertical-align: top;\n",
       "    }\n",
       "\n",
       "    .dataframe thead th {\n",
       "        text-align: right;\n",
       "    }\n",
       "</style>\n",
       "<table border=\"1\" class=\"dataframe\">\n",
       "  <thead>\n",
       "    <tr style=\"text-align: right;\">\n",
       "      <th></th>\n",
       "      <th>EmployeeNo</th>\n",
       "      <th>Promoted_or_Not</th>\n",
       "    </tr>\n",
       "  </thead>\n",
       "  <tbody>\n",
       "    <tr>\n",
       "      <th>0</th>\n",
       "      <td>YAK/S/00005</td>\n",
       "      <td>0.067346</td>\n",
       "    </tr>\n",
       "    <tr>\n",
       "      <th>1</th>\n",
       "      <td>YAK/S/00011</td>\n",
       "      <td>0.056261</td>\n",
       "    </tr>\n",
       "    <tr>\n",
       "      <th>2</th>\n",
       "      <td>YAK/S/00015</td>\n",
       "      <td>0.031907</td>\n",
       "    </tr>\n",
       "    <tr>\n",
       "      <th>3</th>\n",
       "      <td>YAK/S/00016</td>\n",
       "      <td>0.005786</td>\n",
       "    </tr>\n",
       "    <tr>\n",
       "      <th>4</th>\n",
       "      <td>YAK/S/00017</td>\n",
       "      <td>0.155454</td>\n",
       "    </tr>\n",
       "  </tbody>\n",
       "</table>\n",
       "</div>"
      ],
      "text/plain": [
       "    EmployeeNo  Promoted_or_Not\n",
       "0  YAK/S/00005         0.067346\n",
       "1  YAK/S/00011         0.056261\n",
       "2  YAK/S/00015         0.031907\n",
       "3  YAK/S/00016         0.005786\n",
       "4  YAK/S/00017         0.155454"
      ]
     },
     "execution_count": 26,
     "metadata": {},
     "output_type": "execute_result"
    }
   ],
   "source": [
    "test_predictioned.head()"
   ]
  },
  {
   "cell_type": "code",
   "execution_count": 27,
   "metadata": {},
   "outputs": [],
   "source": [
    "d = {\"EmployeeNo\": test_id, 'Promoted_or_Not': np.mean(y_pred_totcb2, 0)}\n",
    "test_prediction = pd.DataFrame(data=d)\n",
    "test_prediction = test_prediction[[\"EmployeeNo\", 'Promoted_or_Not']]"
   ]
  },
  {
   "cell_type": "code",
   "execution_count": 28,
   "metadata": {},
   "outputs": [],
   "source": [
    "test_prediction.to_csv('m3.csv', index=False)"
   ]
  },
  {
   "cell_type": "code",
   "execution_count": 30,
   "metadata": {},
   "outputs": [
    {
     "data": {
      "text/html": [
       "<div>\n",
       "<style scoped>\n",
       "    .dataframe tbody tr th:only-of-type {\n",
       "        vertical-align: middle;\n",
       "    }\n",
       "\n",
       "    .dataframe tbody tr th {\n",
       "        vertical-align: top;\n",
       "    }\n",
       "\n",
       "    .dataframe thead th {\n",
       "        text-align: right;\n",
       "    }\n",
       "</style>\n",
       "<table border=\"1\" class=\"dataframe\">\n",
       "  <thead>\n",
       "    <tr style=\"text-align: right;\">\n",
       "      <th></th>\n",
       "      <th>EmployeeNo</th>\n",
       "      <th>Promoted_or_Not</th>\n",
       "    </tr>\n",
       "  </thead>\n",
       "  <tbody>\n",
       "    <tr>\n",
       "      <th>0</th>\n",
       "      <td>YAK/S/00005</td>\n",
       "      <td>0.117810</td>\n",
       "    </tr>\n",
       "    <tr>\n",
       "      <th>1</th>\n",
       "      <td>YAK/S/00011</td>\n",
       "      <td>0.123584</td>\n",
       "    </tr>\n",
       "    <tr>\n",
       "      <th>2</th>\n",
       "      <td>YAK/S/00015</td>\n",
       "      <td>0.114467</td>\n",
       "    </tr>\n",
       "    <tr>\n",
       "      <th>3</th>\n",
       "      <td>YAK/S/00016</td>\n",
       "      <td>0.094378</td>\n",
       "    </tr>\n",
       "    <tr>\n",
       "      <th>4</th>\n",
       "      <td>YAK/S/00017</td>\n",
       "      <td>0.215146</td>\n",
       "    </tr>\n",
       "  </tbody>\n",
       "</table>\n",
       "</div>"
      ],
      "text/plain": [
       "    EmployeeNo  Promoted_or_Not\n",
       "0  YAK/S/00005         0.117810\n",
       "1  YAK/S/00011         0.123584\n",
       "2  YAK/S/00015         0.114467\n",
       "3  YAK/S/00016         0.094378\n",
       "4  YAK/S/00017         0.215146"
      ]
     },
     "execution_count": 30,
     "metadata": {},
     "output_type": "execute_result"
    }
   ],
   "source": [
    "test_prediction.head()"
   ]
  },
  {
   "cell_type": "code",
   "execution_count": 31,
   "metadata": {},
   "outputs": [],
   "source": [
    "a = pd.read_csv('m1.csv')\n",
    "b = pd.read_csv('m2.csv')\n",
    "c = pd.read_csv('m3.csv')"
   ]
  },
  {
   "cell_type": "code",
   "execution_count": 33,
   "metadata": {},
   "outputs": [
    {
     "data": {
      "text/plain": [
       "(0.9975736011348607, 0.9869472224956242, 0.986556284911308)"
      ]
     },
     "execution_count": 33,
     "metadata": {},
     "output_type": "execute_result"
    }
   ],
   "source": [
    "# correlating the variable of my tuned model\n",
    "a['Promoted_or_Not'].corr(b['Promoted_or_Not']), a['Promoted_or_Not'].corr(c['Promoted_or_Not']),b['Promoted_or_Not'].corr(c['Promoted_or_Not'])"
   ]
  },
  {
   "cell_type": "code",
   "execution_count": 34,
   "metadata": {},
   "outputs": [
    {
     "data": {
      "text/plain": [
       "(0.9975736011348608, 0.9869472225733122, 0.9865562850309286)"
      ]
     },
     "execution_count": 34,
     "metadata": {},
     "output_type": "execute_result"
    }
   ],
   "source": [
    "# correlating the blended prediction of my tuned model\n",
    "test_predictions['Promoted_or_Not'].corr(test_predictioned['Promoted_or_Not']), test_predictions['Promoted_or_Not'].corr(test_prediction['Promoted_or_Not']), test_predictioned['Promoted_or_Not'].corr(test_prediction['Promoted_or_Not'])"
   ]
  },
  {
   "cell_type": "code",
   "execution_count": 35,
   "metadata": {},
   "outputs": [],
   "source": [
    "# blending the whole models into test_predictions model\n",
    "test_predictions['Promoted_or_Not'] = (a['Promoted_or_Not'] * 0.69 + b['Promoted_or_Not'] * 0.35 + c['Promoted_or_Not'] * 0.28).round(2)"
   ]
  },
  {
   "cell_type": "code",
   "execution_count": 36,
   "metadata": {},
   "outputs": [],
   "source": [
    "test_predictions.to_csv('insure_stack1.csv', index=False)"
   ]
  },
  {
   "cell_type": "code",
   "execution_count": 37,
   "metadata": {},
   "outputs": [],
   "source": [
    "train.to_csv('insure2_train.csv', index=False)\n",
    "test.to_csv('insure2_test.csv', index=False)"
   ]
  },
  {
   "cell_type": "code",
   "execution_count": null,
   "metadata": {},
   "outputs": [],
   "source": []
  }
 ],
 "metadata": {
  "kernelspec": {
   "display_name": "Python 3",
   "language": "python",
   "name": "python3"
  },
  "language_info": {
   "codemirror_mode": {
    "name": "ipython",
    "version": 3
   },
   "file_extension": ".py",
   "mimetype": "text/x-python",
   "name": "python",
   "nbconvert_exporter": "python",
   "pygments_lexer": "ipython3",
   "version": "3.7.6"
  }
 },
 "nbformat": 4,
 "nbformat_minor": 4
}
